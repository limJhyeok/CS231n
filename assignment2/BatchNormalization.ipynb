{
  "cells": [
    {
      "cell_type": "markdown",
      "metadata": {
        "id": "view-in-github",
        "colab_type": "text"
      },
      "source": [
        "<a href=\"https://colab.research.google.com/github/withAnewWorld/CS231n/blob/main/BatchNormalization.ipynb\" target=\"_parent\"><img src=\"https://colab.research.google.com/assets/colab-badge.svg\" alt=\"Open In Colab\"/></a>"
      ]
    },
    {
      "cell_type": "code",
      "execution_count": null,
      "metadata": {
        "colab": {
          "base_uri": "https://localhost:8080/"
        },
        "id": "NJyDZwiHVeDi",
        "outputId": "bdce8ef5-12df-4658-ddb3-330a31b4390d"
      },
      "outputs": [
        {
          "output_type": "stream",
          "name": "stdout",
          "text": [
            "Mounted at /content/drive\n",
            "/content/drive/My Drive/cs231n/assignments/assignment2/cs231n/datasets\n",
            "/content/drive/My Drive/cs231n/assignments/assignment2\n"
          ]
        }
      ],
      "source": [
        "# This mounts your Google Drive to the Colab VM.\n",
        "from google.colab import drive\n",
        "drive.mount('/content/drive')\n",
        "\n",
        "# TODO: Enter the foldername in your Drive where you have saved the unzipped\n",
        "# assignment folder, e.g. 'cs231n/assignments/assignment1/'\n",
        "FOLDERNAME = 'cs231n/assignments/assignment2/'\n",
        "assert FOLDERNAME is not None, \"[!] Enter the foldername.\"\n",
        "\n",
        "# Now that we've mounted your Drive, this ensures that\n",
        "# the Python interpreter of the Colab VM can load\n",
        "# python files from within it.\n",
        "import sys\n",
        "sys.path.append('/content/drive/My Drive/{}'.format(FOLDERNAME))\n",
        "\n",
        "# This downloads the CIFAR-10 dataset to your Drive\n",
        "# if it doesn't already exist.\n",
        "%cd /content/drive/My\\ Drive/$FOLDERNAME/cs231n/datasets/\n",
        "!bash get_datasets.sh\n",
        "%cd /content/drive/My\\ Drive/$FOLDERNAME"
      ]
    },
    {
      "cell_type": "markdown",
      "metadata": {
        "tags": [
          "pdf-title"
        ],
        "id": "61d1qDvEVeDo"
      },
      "source": [
        "# Batch Normalization\n",
        "One way to make deep networks easier to train is to use more sophisticated optimization procedures such as SGD+momentum, RMSProp, or Adam. Another strategy is to change the architecture of the network to make it easier to train. One idea along these lines is batch normalization, proposed by [1] in 2015.\n",
        "\n",
        "To understand the goal of batch normalization, it is important to first recognize that machine learning methods tend to perform better with input data consisting of uncorrelated features with zero mean and unit variance. When training a neural network, we can preprocess the data before feeding it to the network to explicitly decorrelate its features. This will ensure that the first layer of the network sees data that follows a nice distribution. However, even if we preprocess the input data, the activations at deeper layers of the network will likely no longer be decorrelated and will no longer have zero mean or unit variance, since they are output from earlier layers in the network. Even worse, during the training process the distribution of features at each layer of the network will shift as the weights of each layer are updated.\n",
        "\n",
        "The authors of [1] hypothesize that the shifting distribution of features inside deep neural networks may make training deep networks more difficult. To overcome this problem, they propose to insert into the network layers that normalize batches. At training time, such a layer uses a minibatch of data to estimate the mean and standard deviation of each feature. These estimated means and standard deviations are then used to center and normalize the features of the minibatch. A running average of these means and standard deviations is kept during training, and at test time these running averages are used to center and normalize features.\n",
        "\n",
        "It is possible that this normalization strategy could reduce the representational power of the network, since it may sometimes be optimal for certain layers to have features that are not zero-mean or unit variance. To this end, the batch normalization layer includes learnable shift and scale parameters for each feature dimension.\n",
        "\n",
        "[1] [Sergey Ioffe and Christian Szegedy, \"Batch Normalization: Accelerating Deep Network Training by Reducing\n",
        "Internal Covariate Shift\", ICML 2015.](https://arxiv.org/abs/1502.03167)"
      ]
    },
    {
      "cell_type": "code",
      "execution_count": null,
      "metadata": {
        "tags": [
          "pdf-ignore"
        ],
        "id": "Kw05uXJ7VeDq"
      },
      "outputs": [],
      "source": [
        "# Setup cell.\n",
        "import time\n",
        "import numpy as np\n",
        "import matplotlib.pyplot as plt\n",
        "from cs231n.classifiers.fc_net import *\n",
        "from cs231n.data_utils import get_CIFAR10_data\n",
        "from cs231n.gradient_check import eval_numerical_gradient, eval_numerical_gradient_array\n",
        "from cs231n.solver import Solver\n",
        "\n",
        "%matplotlib inline\n",
        "plt.rcParams[\"figure.figsize\"] = (10.0, 8.0)  # Set default size of plots.\n",
        "plt.rcParams[\"image.interpolation\"] = \"nearest\"\n",
        "plt.rcParams[\"image.cmap\"] = \"gray\"\n",
        "\n",
        "%load_ext autoreload\n",
        "%autoreload 2\n",
        "\n",
        "def rel_error(x, y):\n",
        "    \"\"\"Returns relative error.\"\"\"\n",
        "    return np.max(np.abs(x - y) / (np.maximum(1e-8, np.abs(x) + np.abs(y))))\n",
        "\n",
        "def print_mean_std(x,axis=0):\n",
        "    print(f\"  means: {x.mean(axis=axis)}\")\n",
        "    print(f\"  stds:  {x.std(axis=axis)}\\n\")"
      ]
    },
    {
      "cell_type": "code",
      "execution_count": null,
      "metadata": {
        "tags": [
          "pdf-ignore"
        ],
        "id": "fapbRTNkVeDs",
        "colab": {
          "base_uri": "https://localhost:8080/"
        },
        "outputId": "86fe2e6d-880b-4e1a-9df3-348f91fa7716"
      },
      "outputs": [
        {
          "output_type": "stream",
          "name": "stdout",
          "text": [
            "X_train: (49000, 3, 32, 32)\n",
            "y_train: (49000,)\n",
            "X_val: (1000, 3, 32, 32)\n",
            "y_val: (1000,)\n",
            "X_test: (1000, 3, 32, 32)\n",
            "y_test: (1000,)\n"
          ]
        }
      ],
      "source": [
        "# Load the (preprocessed) CIFAR-10 data.\n",
        "data = get_CIFAR10_data()\n",
        "for k, v in list(data.items()):\n",
        "    print(f\"{k}: {v.shape}\")"
      ]
    },
    {
      "cell_type": "markdown",
      "metadata": {
        "id": "9pPnxvr3VeDt"
      },
      "source": [
        "# Batch Normalization: Forward Pass\n",
        "In the file `cs231n/layers.py`, implement the batch normalization forward pass in the function `batchnorm_forward`. Once you have done so, run the following to test your implementation.\n",
        "\n",
        "Referencing the paper linked to above in [1] may be helpful!"
      ]
    },
    {
      "cell_type": "code",
      "execution_count": null,
      "metadata": {
        "id": "4T5nBQtaVeDt",
        "colab": {
          "base_uri": "https://localhost:8080/"
        },
        "outputId": "30159cb7-54f9-4cb9-9872-88695fd0887c"
      },
      "outputs": [
        {
          "output_type": "stream",
          "name": "stdout",
          "text": [
            "Before batch normalization:\n",
            "  means: [ -2.3814598  -13.18038246   1.91780462]\n",
            "  stds:  [27.18502186 34.21455511 37.68611762]\n",
            "\n",
            "After batch normalization (gamma=1, beta=0)\n",
            "  means: [5.32907052e-17 7.04991621e-17 1.85962357e-17]\n",
            "  stds:  [0.99999999 1.         1.        ]\n",
            "\n",
            "After batch normalization (gamma= [1. 2. 3.] , beta= [11. 12. 13.] )\n",
            "  means: [11. 12. 13.]\n",
            "  stds:  [0.99999999 1.99999999 2.99999999]\n",
            "\n"
          ]
        }
      ],
      "source": [
        "# Check the training-time forward pass by checking means and variances\n",
        "# of features both before and after batch normalization   \n",
        "\n",
        "# Simulate the forward pass for a two-layer network.\n",
        "np.random.seed(231)\n",
        "N, D1, D2, D3 = 200, 50, 60, 3\n",
        "X = np.random.randn(N, D1)\n",
        "W1 = np.random.randn(D1, D2)\n",
        "W2 = np.random.randn(D2, D3)\n",
        "a = np.maximum(0, X.dot(W1)).dot(W2)\n",
        "\n",
        "print('Before batch normalization:')\n",
        "print_mean_std(a,axis=0)\n",
        "\n",
        "gamma = np.ones((D3,))\n",
        "beta = np.zeros((D3,))\n",
        "\n",
        "# Means should be close to zero and stds close to one.\n",
        "print('After batch normalization (gamma=1, beta=0)')\n",
        "a_norm, _ = batchnorm_forward(a, gamma, beta, {'mode': 'train'})\n",
        "print_mean_std(a_norm,axis=0)\n",
        "\n",
        "gamma = np.asarray([1.0, 2.0, 3.0])\n",
        "beta = np.asarray([11.0, 12.0, 13.0])\n",
        "\n",
        "# Now means should be close to beta and stds close to gamma.\n",
        "print('After batch normalization (gamma=', gamma, ', beta=', beta, ')')\n",
        "a_norm, _ = batchnorm_forward(a, gamma, beta, {'mode': 'train'})\n",
        "print_mean_std(a_norm,axis=0)"
      ]
    },
    {
      "cell_type": "code",
      "execution_count": null,
      "metadata": {
        "id": "CxifFGa-VeDu",
        "colab": {
          "base_uri": "https://localhost:8080/"
        },
        "outputId": "9b99addc-8a21-4f9f-9174-9eedbe07a8c7"
      },
      "outputs": [
        {
          "output_type": "stream",
          "name": "stdout",
          "text": [
            "After batch normalization (test-time):\n",
            "  means: [-0.03917443 -0.04330376 -0.10420588]\n",
            "  stds:  [1.01275215 1.00801307 0.97519584]\n",
            "\n"
          ]
        }
      ],
      "source": [
        "# Check the test-time forward pass by running the training-time\n",
        "# forward pass many times to warm up the running averages, and then\n",
        "# checking the means and variances of activations after a test-time\n",
        "# forward pass.\n",
        "\n",
        "np.random.seed(231)\n",
        "N, D1, D2, D3 = 200, 50, 60, 3\n",
        "W1 = np.random.randn(D1, D2)\n",
        "W2 = np.random.randn(D2, D3)\n",
        "\n",
        "bn_param = {'mode': 'train'}\n",
        "gamma = np.ones(D3)\n",
        "beta = np.zeros(D3)\n",
        "\n",
        "for t in range(50):\n",
        "  X = np.random.randn(N, D1)\n",
        "  a = np.maximum(0, X.dot(W1)).dot(W2)\n",
        "  batchnorm_forward(a, gamma, beta, bn_param)\n",
        "\n",
        "bn_param['mode'] = 'test'\n",
        "X = np.random.randn(N, D1)\n",
        "a = np.maximum(0, X.dot(W1)).dot(W2)\n",
        "a_norm, _ = batchnorm_forward(a, gamma, beta, bn_param)\n",
        "\n",
        "# Means should be close to zero and stds close to one, but will be\n",
        "# noisier than training-time forward passes.\n",
        "print('After batch normalization (test-time):')\n",
        "print_mean_std(a_norm,axis=0)"
      ]
    },
    {
      "cell_type": "markdown",
      "metadata": {
        "id": "mjwMcGAWVeDv"
      },
      "source": [
        "# Batch Normalization: Backward Pass\n",
        "Now implement the backward pass for batch normalization in the function `batchnorm_backward`.\n",
        "\n",
        "To derive the backward pass you should write out the computation graph for batch normalization and backprop through each of the intermediate nodes. Some intermediates may have multiple outgoing branches; make sure to sum gradients across these branches in the backward pass.\n",
        "\n",
        "Once you have finished, run the following to numerically check your backward pass."
      ]
    },
    {
      "cell_type": "code",
      "execution_count": null,
      "metadata": {
        "id": "_Ud3S8w-VeDw",
        "colab": {
          "base_uri": "https://localhost:8080/"
        },
        "outputId": "9a765f86-3e11-4b49-be06-7c9b0b1187a9"
      },
      "outputs": [
        {
          "output_type": "stream",
          "name": "stdout",
          "text": [
            "dx error:  1.7029234192848472e-09\n",
            "dgamma error:  7.420414216247087e-13\n",
            "dbeta error:  2.8795057655839487e-12\n"
          ]
        }
      ],
      "source": [
        "# Gradient check batchnorm backward pass.\n",
        "np.random.seed(231)\n",
        "N, D = 4, 5\n",
        "x = 5 * np.random.randn(N, D) + 12\n",
        "gamma = np.random.randn(D)\n",
        "beta = np.random.randn(D)\n",
        "dout = np.random.randn(N, D)\n",
        "\n",
        "bn_param = {'mode': 'train'}\n",
        "fx = lambda x: batchnorm_forward(x, gamma, beta, bn_param)[0]\n",
        "fg = lambda a: batchnorm_forward(x, a, beta, bn_param)[0]\n",
        "fb = lambda b: batchnorm_forward(x, gamma, b, bn_param)[0]\n",
        "\n",
        "dx_num = eval_numerical_gradient_array(fx, x, dout)\n",
        "da_num = eval_numerical_gradient_array(fg, gamma.copy(), dout)\n",
        "db_num = eval_numerical_gradient_array(fb, beta.copy(), dout)\n",
        "\n",
        "_, cache = batchnorm_forward(x, gamma, beta, bn_param)\n",
        "dx, dgamma, dbeta = batchnorm_backward(dout, cache)\n",
        "\n",
        "# You should expect to see relative errors between 1e-13 and 1e-8.\n",
        "print('dx error: ', rel_error(dx_num, dx))\n",
        "print('dgamma error: ', rel_error(da_num, dgamma))\n",
        "print('dbeta error: ', rel_error(db_num, dbeta))"
      ]
    },
    {
      "cell_type": "markdown",
      "metadata": {
        "id": "Wl14_J8yVeDx"
      },
      "source": [
        "# Batch Normalization: Alternative Backward Pass\n",
        "In class we talked about two different implementations for the sigmoid backward pass. One strategy is to write out a computation graph composed of simple operations and backprop through all intermediate values. Another strategy is to work out the derivatives on paper. For example, you can derive a very simple formula for the sigmoid function's backward pass by simplifying gradients on paper.\n",
        "\n",
        "Surprisingly, it turns out that you can do a similar simplification for the batch normalization backward pass too!  \n",
        "\n",
        "In the forward pass, given a set of inputs $X=\\begin{bmatrix}x_1\\\\x_2\\\\...\\\\x_N\\end{bmatrix}$, \n",
        "\n",
        "we first calculate the mean $\\mu$ and variance $v$.\n",
        "With $\\mu$ and $v$ calculated, we can calculate the standard deviation $\\sigma$  and normalized data $Y$.\n",
        "The equations and graph illustration below describe the computation ($y_i$ is the i-th element of the vector $Y$).\n",
        "\n",
        "\\begin{align}\n",
        "& \\mu=\\frac{1}{N}\\sum_{k=1}^N x_k  &  v=\\frac{1}{N}\\sum_{k=1}^N (x_k-\\mu)^2 \\\\\n",
        "& \\sigma=\\sqrt{v+\\epsilon}         &  y_i=\\frac{x_i-\\mu}{\\sigma}\n",
        "\\end{align}"
      ]
    },
    {
      "cell_type": "markdown",
      "metadata": {
        "id": "GDyW3OGlVeDy"
      },
      "source": [
        "<img src=\"https://raw.githubusercontent.com/cs231n/cs231n.github.io/master/assets/a2/batchnorm_graph.png\">"
      ]
    },
    {
      "cell_type": "markdown",
      "metadata": {
        "tags": [
          "pdf-ignore"
        ],
        "id": "o9hoFOe5VeDy"
      },
      "source": [
        "The meat of our problem during backpropagation is to compute $\\frac{\\partial L}{\\partial X}$, given the upstream gradient we receive, $\\frac{\\partial L}{\\partial Y}.$ To do this, recall the chain rule in calculus gives us $\\frac{\\partial L}{\\partial X} = \\frac{\\partial L}{\\partial Y} \\cdot \\frac{\\partial Y}{\\partial X}$.\n",
        "\n",
        "The unknown/hard part is $\\frac{\\partial Y}{\\partial X}$. We can find this by first deriving step-by-step our local gradients at \n",
        "$\\frac{\\partial v}{\\partial X}$, $\\frac{\\partial \\mu}{\\partial X}$,\n",
        "$\\frac{\\partial \\sigma}{\\partial v}$, \n",
        "$\\frac{\\partial Y}{\\partial \\sigma}$, and $\\frac{\\partial Y}{\\partial \\mu}$,\n",
        "and then use the chain rule to compose these gradients (which appear in the form of vectors!) appropriately to compute $\\frac{\\partial Y}{\\partial X}$.\n",
        "\n",
        "If it's challenging to directly reason about the gradients over $X$ and $Y$ which require matrix multiplication, try reasoning about the gradients in terms of individual elements $x_i$ and $y_i$ first: in that case, you will need to come up with the derivations for $\\frac{\\partial L}{\\partial x_i}$, by relying on the Chain Rule to first calculate the intermediate $\\frac{\\partial \\mu}{\\partial x_i}, \\frac{\\partial v}{\\partial x_i}, \\frac{\\partial \\sigma}{\\partial x_i},$ then assemble these pieces to calculate $\\frac{\\partial y_i}{\\partial x_i}$. \n",
        "\n",
        "You should make sure each of the intermediary gradient derivations are all as simplified as possible, for ease of implementation. \n",
        "\n",
        "After doing so, implement the simplified batch normalization backward pass in the function `batchnorm_backward_alt` and compare the two implementations by running the following. Your two implementations should compute nearly identical results, but the alternative implementation should be a bit faster."
      ]
    },
    {
      "cell_type": "code",
      "execution_count": null,
      "metadata": {
        "id": "htqfN0tKVeDz",
        "colab": {
          "base_uri": "https://localhost:8080/"
        },
        "outputId": "6668cc8a-f6fe-49d8-84b2-b0c496b983d0"
      },
      "outputs": [
        {
          "output_type": "stream",
          "name": "stdout",
          "text": [
            "dx difference:  5.451295432028518e-13\n",
            "dgamma difference:  0.0\n",
            "dbeta difference:  0.0\n",
            "speedup: 1.65x\n"
          ]
        }
      ],
      "source": [
        "np.random.seed(231)\n",
        "N, D = 100, 500\n",
        "x = 5 * np.random.randn(N, D) + 12\n",
        "gamma = np.random.randn(D)\n",
        "beta = np.random.randn(D)\n",
        "dout = np.random.randn(N, D)\n",
        "\n",
        "bn_param = {'mode': 'train'}\n",
        "out, cache = batchnorm_forward(x, gamma, beta, bn_param)\n",
        "\n",
        "t1 = time.time()\n",
        "dx1, dgamma1, dbeta1 = batchnorm_backward(dout, cache)\n",
        "t2 = time.time()\n",
        "dx2, dgamma2, dbeta2 = batchnorm_backward_alt(dout, cache)\n",
        "t3 = time.time()\n",
        "\n",
        "print('dx difference: ', rel_error(dx1, dx2))\n",
        "print('dgamma difference: ', rel_error(dgamma1, dgamma2))\n",
        "print('dbeta difference: ', rel_error(dbeta1, dbeta2))\n",
        "print('speedup: %.2fx' % ((t2 - t1) / (t3 - t2)))"
      ]
    },
    {
      "cell_type": "markdown",
      "metadata": {
        "id": "mbySyAViVeDz"
      },
      "source": [
        "# Fully Connected Networks with Batch Normalization\n",
        "Now that you have a working implementation for batch normalization, go back to your `FullyConnectedNet` in the file `cs231n/classifiers/fc_net.py`. Modify your implementation to add batch normalization.\n",
        "\n",
        "Concretely, when the `normalization` flag is set to `\"batchnorm\"` in the constructor, you should insert a batch normalization layer before each ReLU nonlinearity. The outputs from the last layer of the network should not be normalized. Once you are done, run the following to gradient-check your implementation.\n",
        "\n",
        "**Hint:** You might find it useful to define an additional helper layer similar to those in the file `cs231n/layer_utils.py`."
      ]
    },
    {
      "cell_type": "code",
      "execution_count": null,
      "metadata": {
        "id": "kFmaDO8BVeD0",
        "colab": {
          "base_uri": "https://localhost:8080/"
        },
        "outputId": "fc55bfbe-462a-459a-e8bd-43890fcd1473"
      },
      "outputs": [
        {
          "output_type": "stream",
          "name": "stdout",
          "text": [
            "Running check with reg =  0\n",
            "Initial loss:  2.2611955101340957\n",
            "W1 relative error: 1.10e-04\n",
            "W2 relative error: 5.65e-06\n",
            "W3 relative error: 4.14e-10\n",
            "b1 relative error: 8.88e-08\n",
            "b2 relative error: 4.44e-08\n",
            "b3 relative error: 1.02e-10\n",
            "beta1 relative error: 7.33e-09\n",
            "beta2 relative error: 1.17e-09\n",
            "gamma1 relative error: 7.47e-09\n",
            "gamma2 relative error: 3.35e-09\n",
            "\n",
            "Running check with reg =  3.14\n",
            "Initial loss:  6.996533220108303\n",
            "W1 relative error: 1.98e-06\n",
            "W2 relative error: 2.28e-06\n",
            "W3 relative error: 1.11e-08\n",
            "b1 relative error: 5.55e-09\n",
            "b2 relative error: 4.44e-08\n",
            "b3 relative error: 1.73e-10\n",
            "beta1 relative error: 6.65e-09\n",
            "beta2 relative error: 3.48e-09\n",
            "gamma1 relative error: 6.27e-09\n",
            "gamma2 relative error: 4.67e-09\n"
          ]
        }
      ],
      "source": [
        "np.random.seed(231)\n",
        "N, D, H1, H2, C = 2, 15, 20, 30, 10\n",
        "X = np.random.randn(N, D)\n",
        "y = np.random.randint(C, size=(N,))\n",
        "\n",
        "# You should expect losses between 1e-4~1e-10 for W, \n",
        "# losses between 1e-08~1e-10 for b,\n",
        "# and losses between 1e-08~1e-09 for beta and gammas.\n",
        "for reg in [0, 3.14]:\n",
        "  print('Running check with reg = ', reg)\n",
        "  model = FullyConnectedNet([H1, H2], input_dim=D, num_classes=C,\n",
        "                            reg=reg, weight_scale=5e-2, dtype=np.float64,\n",
        "                            normalization='batchnorm')\n",
        "\n",
        "  loss, grads = model.loss(X, y)\n",
        "  print('Initial loss: ', loss)\n",
        "\n",
        "  for name in sorted(grads):\n",
        "    f = lambda _: model.loss(X, y)[0]\n",
        "    grad_num = eval_numerical_gradient(f, model.params[name], verbose=False, h=1e-5)\n",
        "    print('%s relative error: %.2e' % (name, rel_error(grad_num, grads[name])))\n",
        "  if reg == 0: print()"
      ]
    },
    {
      "cell_type": "markdown",
      "metadata": {
        "id": "fNgpDwc1VeD0"
      },
      "source": [
        "# Batch Normalization for Deep Networks\n",
        "Run the following to train a six-layer network on a subset of 1000 training examples both with and without batch normalization."
      ]
    },
    {
      "cell_type": "code",
      "execution_count": null,
      "metadata": {
        "id": "p2zQPzEtVeD0",
        "colab": {
          "base_uri": "https://localhost:8080/"
        },
        "outputId": "72456978-e995-4a60-c26c-5cd2ce542a72"
      },
      "outputs": [
        {
          "output_type": "stream",
          "name": "stdout",
          "text": [
            "Solver with batch norm:\n",
            "(Iteration 1 / 200) loss: 2.297062\n",
            "(Epoch 0 / 10) train acc: 0.100000; val_acc: 0.103000\n",
            "(Epoch 1 / 10) train acc: 0.294000; val_acc: 0.231000\n",
            "(Iteration 21 / 200) loss: 2.067855\n",
            "(Epoch 2 / 10) train acc: 0.445000; val_acc: 0.316000\n",
            "(Iteration 41 / 200) loss: 1.661808\n",
            "(Epoch 3 / 10) train acc: 0.483000; val_acc: 0.304000\n",
            "(Iteration 61 / 200) loss: 1.565039\n",
            "(Epoch 4 / 10) train acc: 0.573000; val_acc: 0.298000\n",
            "(Iteration 81 / 200) loss: 1.528860\n",
            "(Epoch 5 / 10) train acc: 0.608000; val_acc: 0.311000\n",
            "(Iteration 101 / 200) loss: 1.246401\n",
            "(Epoch 6 / 10) train acc: 0.649000; val_acc: 0.344000\n",
            "(Iteration 121 / 200) loss: 1.008131\n",
            "(Epoch 7 / 10) train acc: 0.704000; val_acc: 0.345000\n",
            "(Iteration 141 / 200) loss: 0.978553\n",
            "(Epoch 8 / 10) train acc: 0.701000; val_acc: 0.317000\n",
            "(Iteration 161 / 200) loss: 1.233013\n",
            "(Epoch 9 / 10) train acc: 0.784000; val_acc: 0.344000\n",
            "(Iteration 181 / 200) loss: 0.858083\n",
            "(Epoch 10 / 10) train acc: 0.825000; val_acc: 0.336000\n",
            "\n",
            "Solver without batch norm:\n",
            "(Iteration 1 / 200) loss: 2.302591\n",
            "(Epoch 0 / 10) train acc: 0.140000; val_acc: 0.144000\n",
            "(Epoch 1 / 10) train acc: 0.185000; val_acc: 0.169000\n",
            "(Iteration 21 / 200) loss: 2.252769\n",
            "(Epoch 2 / 10) train acc: 0.193000; val_acc: 0.196000\n",
            "(Iteration 41 / 200) loss: 2.062906\n",
            "(Epoch 3 / 10) train acc: 0.203000; val_acc: 0.200000\n",
            "(Iteration 61 / 200) loss: 2.022108\n",
            "(Epoch 4 / 10) train acc: 0.194000; val_acc: 0.171000\n",
            "(Iteration 81 / 200) loss: 1.962988\n",
            "(Epoch 5 / 10) train acc: 0.213000; val_acc: 0.192000\n",
            "(Iteration 101 / 200) loss: 1.785699\n",
            "(Epoch 6 / 10) train acc: 0.250000; val_acc: 0.218000\n",
            "(Iteration 121 / 200) loss: 1.815825\n",
            "(Epoch 7 / 10) train acc: 0.261000; val_acc: 0.199000\n",
            "(Iteration 141 / 200) loss: 1.837881\n",
            "(Epoch 8 / 10) train acc: 0.300000; val_acc: 0.237000\n",
            "(Iteration 161 / 200) loss: 1.763074\n",
            "(Epoch 9 / 10) train acc: 0.315000; val_acc: 0.241000\n",
            "(Iteration 181 / 200) loss: 1.575213\n",
            "(Epoch 10 / 10) train acc: 0.321000; val_acc: 0.236000\n"
          ]
        }
      ],
      "source": [
        "np.random.seed(231)\n",
        "\n",
        "# Try training a very deep net with batchnorm.\n",
        "hidden_dims = [100, 100, 100, 100, 100]\n",
        "\n",
        "num_train = 1000\n",
        "small_data = {\n",
        "  'X_train': data['X_train'][:num_train],\n",
        "  'y_train': data['y_train'][:num_train],\n",
        "  'X_val': data['X_val'],\n",
        "  'y_val': data['y_val'],\n",
        "}\n",
        "\n",
        "weight_scale = 2e-2\n",
        "bn_model = FullyConnectedNet(hidden_dims, weight_scale=weight_scale, normalization='batchnorm')\n",
        "model = FullyConnectedNet(hidden_dims, weight_scale=weight_scale, normalization=None)\n",
        "\n",
        "print('Solver with batch norm:')\n",
        "bn_solver = Solver(bn_model, small_data,\n",
        "                num_epochs=10, batch_size=50,\n",
        "                update_rule='adam',\n",
        "                optim_config={\n",
        "                  'learning_rate': 1e-3,\n",
        "                },\n",
        "                verbose=True,print_every=20)\n",
        "bn_solver.train()\n",
        "\n",
        "print('\\nSolver without batch norm:')\n",
        "solver = Solver(model, small_data,\n",
        "                num_epochs=10, batch_size=50,\n",
        "                update_rule='adam',\n",
        "                optim_config={\n",
        "                  'learning_rate': 1e-3,\n",
        "                },\n",
        "                verbose=True, print_every=20)\n",
        "solver.train()"
      ]
    },
    {
      "cell_type": "markdown",
      "metadata": {
        "id": "btW_3anYVeD1"
      },
      "source": [
        "Run the following to visualize the results from two networks trained above. You should find that using batch normalization helps the network to converge much faster."
      ]
    },
    {
      "cell_type": "code",
      "execution_count": null,
      "metadata": {
        "tags": [
          "pdf-ignore-input"
        ],
        "id": "2qyBAbKSVeD1",
        "colab": {
          "base_uri": "https://localhost:8080/",
          "height": 893
        },
        "outputId": "3d5ac03b-d19e-463a-e2a5-6dc6fa4a9fb4"
      },
      "outputs": [
        {
          "output_type": "display_data",
          "data": {
            "image/png": "[encoded data removed]",
            "text/plain": [
              "<Figure size 1080x1080 with 3 Axes>"
            ]
          },
          "metadata": {
            "needs_background": "light"
          }
        }
      ],
      "source": [
        "def plot_training_history(title, label, baseline, bn_solvers, plot_fn, bl_marker='.', bn_marker='.', labels=None):\n",
        "    \"\"\"utility function for plotting training history\"\"\"\n",
        "    plt.title(title)\n",
        "    plt.xlabel(label)\n",
        "    bn_plots = [plot_fn(bn_solver) for bn_solver in bn_solvers]\n",
        "    bl_plot = plot_fn(baseline)\n",
        "    num_bn = len(bn_plots)\n",
        "    for i in range(num_bn):\n",
        "        label='with_norm'\n",
        "        if labels is not None:\n",
        "            label += str(labels[i])\n",
        "        plt.plot(bn_plots[i], bn_marker, label=label)\n",
        "    label='baseline'\n",
        "    if labels is not None:\n",
        "        label += str(labels[0])\n",
        "    plt.plot(bl_plot, bl_marker, label=label)\n",
        "    plt.legend(loc='lower center', ncol=num_bn+1) \n",
        "\n",
        "    \n",
        "plt.subplot(3, 1, 1)\n",
        "plot_training_history('Training loss','Iteration', solver, [bn_solver], \\\n",
        "                      lambda x: x.loss_history, bl_marker='o', bn_marker='o')\n",
        "plt.subplot(3, 1, 2)\n",
        "plot_training_history('Training accuracy','Epoch', solver, [bn_solver], \\\n",
        "                      lambda x: x.train_acc_history, bl_marker='-o', bn_marker='-o')\n",
        "plt.subplot(3, 1, 3)\n",
        "plot_training_history('Validation accuracy','Epoch', solver, [bn_solver], \\\n",
        "                      lambda x: x.val_acc_history, bl_marker='-o', bn_marker='-o')\n",
        "\n",
        "plt.gcf().set_size_inches(15, 15)\n",
        "plt.show()"
      ]
    },
    {
      "cell_type": "markdown",
      "metadata": {
        "id": "W2z2KR84VeD2"
      },
      "source": [
        "# Batch Normalization and Initialization\n",
        "We will now run a small experiment to study the interaction of batch normalization and weight initialization.\n",
        "\n",
        "The first cell will train eight-layer networks both with and without batch normalization using different scales for weight initialization. The second layer will plot training accuracy, validation set accuracy, and training loss as a function of the weight initialization scale."
      ]
    },
    {
      "cell_type": "code",
      "execution_count": null,
      "metadata": {
        "tags": [
          "pdf-ignore-input"
        ],
        "id": "IBEFs3NKVeD2",
        "colab": {
          "base_uri": "https://localhost:8080/",
          "height": 505
        },
        "outputId": "8a2d8761-cd10-4b85-a000-21dd45ddf867"
      },
      "outputs": [
        {
          "output_type": "stream",
          "name": "stdout",
          "text": [
            "Running weight scale 1 / 20\n",
            "Running weight scale 2 / 20\n",
            "Running weight scale 3 / 20\n",
            "Running weight scale 4 / 20\n",
            "Running weight scale 5 / 20\n",
            "Running weight scale 6 / 20\n"
          ]
        },
        {
          "output_type": "error",
          "ename": "KeyboardInterrupt",
          "evalue": "ignored",
          "traceback": [
            "\u001b[0;31m---------------------------------------------------------------------------\u001b[0m",
            "\u001b[0;31mKeyboardInterrupt\u001b[0m                         Traceback (most recent call last)",
            "\u001b[0;32m<ipython-input-16-2052312fbf95>\u001b[0m in \u001b[0;36m<module>\u001b[0;34m()\u001b[0m\n\u001b[1;32m     26\u001b[0m                   },\n\u001b[1;32m     27\u001b[0m                   verbose=False, print_every=200)\n\u001b[0;32m---> 28\u001b[0;31m     \u001b[0mbn_solver\u001b[0m\u001b[0;34m.\u001b[0m\u001b[0mtrain\u001b[0m\u001b[0;34m(\u001b[0m\u001b[0;34m)\u001b[0m\u001b[0;34m\u001b[0m\u001b[0;34m\u001b[0m\u001b[0m\n\u001b[0m\u001b[1;32m     29\u001b[0m     \u001b[0mbn_solvers_ws\u001b[0m\u001b[0;34m[\u001b[0m\u001b[0mweight_scale\u001b[0m\u001b[0;34m]\u001b[0m \u001b[0;34m=\u001b[0m \u001b[0mbn_solver\u001b[0m\u001b[0;34m\u001b[0m\u001b[0;34m\u001b[0m\u001b[0m\n\u001b[1;32m     30\u001b[0m \u001b[0;34m\u001b[0m\u001b[0m\n",
            "\u001b[0;32m/content/drive/My Drive/cs231n/assignments/assignment2/cs231n/solver.py\u001b[0m in \u001b[0;36mtrain\u001b[0;34m(self)\u001b[0m\n\u001b[1;32m    261\u001b[0m \u001b[0;34m\u001b[0m\u001b[0m\n\u001b[1;32m    262\u001b[0m         \u001b[0;32mfor\u001b[0m \u001b[0mt\u001b[0m \u001b[0;32min\u001b[0m \u001b[0mrange\u001b[0m\u001b[0;34m(\u001b[0m\u001b[0mnum_iterations\u001b[0m\u001b[0;34m)\u001b[0m\u001b[0;34m:\u001b[0m\u001b[0;34m\u001b[0m\u001b[0;34m\u001b[0m\u001b[0m\n\u001b[0;32m--> 263\u001b[0;31m             \u001b[0mself\u001b[0m\u001b[0;34m.\u001b[0m\u001b[0m_step\u001b[0m\u001b[0;34m(\u001b[0m\u001b[0;34m)\u001b[0m\u001b[0;34m\u001b[0m\u001b[0;34m\u001b[0m\u001b[0m\n\u001b[0m\u001b[1;32m    264\u001b[0m \u001b[0;34m\u001b[0m\u001b[0m\n\u001b[1;32m    265\u001b[0m             \u001b[0;31m# Maybe print training loss\u001b[0m\u001b[0;34m\u001b[0m\u001b[0;34m\u001b[0m\u001b[0;34m\u001b[0m\u001b[0m\n",
            "\u001b[0;32m/content/drive/My Drive/cs231n/assignments/assignment2/cs231n/solver.py\u001b[0m in \u001b[0;36m_step\u001b[0;34m(self)\u001b[0m\n\u001b[1;32m    186\u001b[0m             \u001b[0mdw\u001b[0m \u001b[0;34m=\u001b[0m \u001b[0mgrads\u001b[0m\u001b[0;34m[\u001b[0m\u001b[0mp\u001b[0m\u001b[0;34m]\u001b[0m\u001b[0;34m\u001b[0m\u001b[0;34m\u001b[0m\u001b[0m\n\u001b[1;32m    187\u001b[0m             \u001b[0mconfig\u001b[0m \u001b[0;34m=\u001b[0m \u001b[0mself\u001b[0m\u001b[0;34m.\u001b[0m\u001b[0moptim_configs\u001b[0m\u001b[0;34m[\u001b[0m\u001b[0mp\u001b[0m\u001b[0;34m]\u001b[0m\u001b[0;34m\u001b[0m\u001b[0;34m\u001b[0m\u001b[0m\n\u001b[0;32m--> 188\u001b[0;31m             \u001b[0mnext_w\u001b[0m\u001b[0;34m,\u001b[0m \u001b[0mnext_config\u001b[0m \u001b[0;34m=\u001b[0m \u001b[0mself\u001b[0m\u001b[0;34m.\u001b[0m\u001b[0mupdate_rule\u001b[0m\u001b[0;34m(\u001b[0m\u001b[0mw\u001b[0m\u001b[0;34m,\u001b[0m \u001b[0mdw\u001b[0m\u001b[0;34m,\u001b[0m \u001b[0mconfig\u001b[0m\u001b[0;34m)\u001b[0m\u001b[0;34m\u001b[0m\u001b[0;34m\u001b[0m\u001b[0m\n\u001b[0m\u001b[1;32m    189\u001b[0m             \u001b[0mself\u001b[0m\u001b[0;34m.\u001b[0m\u001b[0mmodel\u001b[0m\u001b[0;34m.\u001b[0m\u001b[0mparams\u001b[0m\u001b[0;34m[\u001b[0m\u001b[0mp\u001b[0m\u001b[0;34m]\u001b[0m \u001b[0;34m=\u001b[0m \u001b[0mnext_w\u001b[0m\u001b[0;34m\u001b[0m\u001b[0;34m\u001b[0m\u001b[0m\n\u001b[1;32m    190\u001b[0m             \u001b[0mself\u001b[0m\u001b[0;34m.\u001b[0m\u001b[0moptim_configs\u001b[0m\u001b[0;34m[\u001b[0m\u001b[0mp\u001b[0m\u001b[0;34m]\u001b[0m \u001b[0;34m=\u001b[0m \u001b[0mnext_config\u001b[0m\u001b[0;34m\u001b[0m\u001b[0;34m\u001b[0m\u001b[0m\n",
            "\u001b[0;32m/content/drive/My Drive/cs231n/assignments/assignment2/cs231n/optim.py\u001b[0m in \u001b[0;36madam\u001b[0;34m(w, dw, config)\u001b[0m\n\u001b[1;32m    159\u001b[0m \u001b[0;34m\u001b[0m\u001b[0m\n\u001b[1;32m    160\u001b[0m     \u001b[0mconfig\u001b[0m\u001b[0;34m[\u001b[0m\u001b[0;34m\"t\"\u001b[0m\u001b[0;34m]\u001b[0m \u001b[0;34m+=\u001b[0m\u001b[0;36m1\u001b[0m\u001b[0;34m\u001b[0m\u001b[0;34m\u001b[0m\u001b[0m\n\u001b[0;32m--> 161\u001b[0;31m     \u001b[0mconfig\u001b[0m\u001b[0;34m[\u001b[0m\u001b[0;34m\"m\"\u001b[0m\u001b[0;34m]\u001b[0m\u001b[0;34m=\u001b[0m\u001b[0mconfig\u001b[0m\u001b[0;34m[\u001b[0m\u001b[0;34m\"beta1\"\u001b[0m\u001b[0;34m]\u001b[0m\u001b[0;34m*\u001b[0m\u001b[0mconfig\u001b[0m\u001b[0;34m[\u001b[0m\u001b[0;34m\"m\"\u001b[0m\u001b[0;34m]\u001b[0m\u001b[0;34m+\u001b[0m\u001b[0;34m(\u001b[0m\u001b[0;36m1\u001b[0m\u001b[0;34m-\u001b[0m\u001b[0mconfig\u001b[0m\u001b[0;34m[\u001b[0m\u001b[0;34m\"beta1\"\u001b[0m\u001b[0;34m]\u001b[0m\u001b[0;34m)\u001b[0m\u001b[0;34m*\u001b[0m\u001b[0mdw\u001b[0m\u001b[0;34m\u001b[0m\u001b[0;34m\u001b[0m\u001b[0m\n\u001b[0m\u001b[1;32m    162\u001b[0m     \u001b[0mconfig\u001b[0m\u001b[0;34m[\u001b[0m\u001b[0;34m\"v\"\u001b[0m\u001b[0;34m]\u001b[0m\u001b[0;34m=\u001b[0m\u001b[0mconfig\u001b[0m\u001b[0;34m[\u001b[0m\u001b[0;34m\"beta2\"\u001b[0m\u001b[0;34m]\u001b[0m\u001b[0;34m*\u001b[0m\u001b[0mconfig\u001b[0m\u001b[0;34m[\u001b[0m\u001b[0;34m\"v\"\u001b[0m\u001b[0;34m]\u001b[0m\u001b[0;34m+\u001b[0m\u001b[0;34m(\u001b[0m\u001b[0;36m1\u001b[0m\u001b[0;34m-\u001b[0m\u001b[0mconfig\u001b[0m\u001b[0;34m[\u001b[0m\u001b[0;34m\"beta2\"\u001b[0m\u001b[0;34m]\u001b[0m\u001b[0;34m)\u001b[0m\u001b[0;34m*\u001b[0m\u001b[0;34m(\u001b[0m\u001b[0mdw\u001b[0m\u001b[0;34m**\u001b[0m\u001b[0;36m2\u001b[0m\u001b[0;34m)\u001b[0m\u001b[0;34m\u001b[0m\u001b[0;34m\u001b[0m\u001b[0m\n\u001b[1;32m    163\u001b[0m     \u001b[0mmt\u001b[0m\u001b[0;34m=\u001b[0m\u001b[0mconfig\u001b[0m\u001b[0;34m[\u001b[0m\u001b[0;34m\"m\"\u001b[0m\u001b[0;34m]\u001b[0m\u001b[0;34m/\u001b[0m\u001b[0;34m(\u001b[0m\u001b[0;36m1\u001b[0m\u001b[0;34m-\u001b[0m\u001b[0mconfig\u001b[0m\u001b[0;34m[\u001b[0m\u001b[0;34m\"beta1\"\u001b[0m\u001b[0;34m]\u001b[0m\u001b[0;34m**\u001b[0m\u001b[0mconfig\u001b[0m\u001b[0;34m[\u001b[0m\u001b[0;34m\"t\"\u001b[0m\u001b[0;34m]\u001b[0m\u001b[0;34m)\u001b[0m\u001b[0;34m\u001b[0m\u001b[0;34m\u001b[0m\u001b[0m\n",
            "\u001b[0;31mKeyboardInterrupt\u001b[0m: "
          ]
        }
      ],
      "source": [
        "np.random.seed(231)\n",
        "\n",
        "# Try training a very deep net with batchnorm.\n",
        "hidden_dims = [50, 50, 50, 50, 50, 50, 50]\n",
        "num_train = 1000\n",
        "small_data = {\n",
        "  'X_train': data['X_train'][:num_train],\n",
        "  'y_train': data['y_train'][:num_train],\n",
        "  'X_val': data['X_val'],\n",
        "  'y_val': data['y_val'],\n",
        "}\n",
        "\n",
        "bn_solvers_ws = {}\n",
        "solvers_ws = {}\n",
        "weight_scales = np.logspace(-4, 0, num=20)\n",
        "for i, weight_scale in enumerate(weight_scales):\n",
        "    print('Running weight scale %d / %d' % (i + 1, len(weight_scales)))\n",
        "    bn_model = FullyConnectedNet(hidden_dims, weight_scale=weight_scale, normalization='batchnorm')\n",
        "    model = FullyConnectedNet(hidden_dims, weight_scale=weight_scale, normalization=None)\n",
        "\n",
        "    bn_solver = Solver(bn_model, small_data,\n",
        "                  num_epochs=10, batch_size=50,\n",
        "                  update_rule='adam',\n",
        "                  optim_config={\n",
        "                    'learning_rate': 1e-3,\n",
        "                  },\n",
        "                  verbose=False, print_every=200)\n",
        "    bn_solver.train()\n",
        "    bn_solvers_ws[weight_scale] = bn_solver\n",
        "\n",
        "    solver = Solver(model, small_data,\n",
        "                  num_epochs=10, batch_size=50,\n",
        "                  update_rule='adam',\n",
        "                  optim_config={\n",
        "                    'learning_rate': 1e-3,\n",
        "                  },\n",
        "                  verbose=False, print_every=200)\n",
        "    solver.train()\n",
        "    solvers_ws[weight_scale] = solver"
      ]
    },
    {
      "cell_type": "code",
      "execution_count": null,
      "metadata": {
        "tags": [
          "pdf-ignore-input"
        ],
        "id": "kYZdLMCFVeD3",
        "colab": {
          "base_uri": "https://localhost:8080/",
          "height": 245
        },
        "outputId": "1e4a764c-3213-4c69-b2f4-3cad31f32a39"
      },
      "outputs": [
        {
          "output_type": "error",
          "ename": "KeyError",
          "evalue": "ignored",
          "traceback": [
            "\u001b[0;31m---------------------------------------------------------------------------\u001b[0m",
            "\u001b[0;31mKeyError\u001b[0m                                  Traceback (most recent call last)",
            "\u001b[0;32m<ipython-input-17-461963aa8a0b>\u001b[0m in \u001b[0;36m<module>\u001b[0;34m()\u001b[0m\n\u001b[1;32m      5\u001b[0m \u001b[0;34m\u001b[0m\u001b[0m\n\u001b[1;32m      6\u001b[0m \u001b[0;32mfor\u001b[0m \u001b[0mws\u001b[0m \u001b[0;32min\u001b[0m \u001b[0mweight_scales\u001b[0m\u001b[0;34m:\u001b[0m\u001b[0;34m\u001b[0m\u001b[0;34m\u001b[0m\u001b[0m\n\u001b[0;32m----> 7\u001b[0;31m   \u001b[0mbest_train_accs\u001b[0m\u001b[0;34m.\u001b[0m\u001b[0mappend\u001b[0m\u001b[0;34m(\u001b[0m\u001b[0mmax\u001b[0m\u001b[0;34m(\u001b[0m\u001b[0msolvers_ws\u001b[0m\u001b[0;34m[\u001b[0m\u001b[0mws\u001b[0m\u001b[0;34m]\u001b[0m\u001b[0;34m.\u001b[0m\u001b[0mtrain_acc_history\u001b[0m\u001b[0;34m)\u001b[0m\u001b[0;34m)\u001b[0m\u001b[0;34m\u001b[0m\u001b[0;34m\u001b[0m\u001b[0m\n\u001b[0m\u001b[1;32m      8\u001b[0m   \u001b[0mbn_best_train_accs\u001b[0m\u001b[0;34m.\u001b[0m\u001b[0mappend\u001b[0m\u001b[0;34m(\u001b[0m\u001b[0mmax\u001b[0m\u001b[0;34m(\u001b[0m\u001b[0mbn_solvers_ws\u001b[0m\u001b[0;34m[\u001b[0m\u001b[0mws\u001b[0m\u001b[0;34m]\u001b[0m\u001b[0;34m.\u001b[0m\u001b[0mtrain_acc_history\u001b[0m\u001b[0;34m)\u001b[0m\u001b[0;34m)\u001b[0m\u001b[0;34m\u001b[0m\u001b[0;34m\u001b[0m\u001b[0m\n\u001b[1;32m      9\u001b[0m \u001b[0;34m\u001b[0m\u001b[0m\n",
            "\u001b[0;31mKeyError\u001b[0m: 0.0011288378916846883"
          ]
        }
      ],
      "source": [
        "# Plot results of weight scale experiment.\n",
        "best_train_accs, bn_best_train_accs = [], []\n",
        "best_val_accs, bn_best_val_accs = [], []\n",
        "final_train_loss, bn_final_train_loss = [], []\n",
        "\n",
        "for ws in weight_scales:\n",
        "  best_train_accs.append(max(solvers_ws[ws].train_acc_history))\n",
        "  bn_best_train_accs.append(max(bn_solvers_ws[ws].train_acc_history))\n",
        "  \n",
        "  best_val_accs.append(max(solvers_ws[ws].val_acc_history))\n",
        "  bn_best_val_accs.append(max(bn_solvers_ws[ws].val_acc_history))\n",
        "  \n",
        "  final_train_loss.append(np.mean(solvers_ws[ws].loss_history[-100:]))\n",
        "  bn_final_train_loss.append(np.mean(bn_solvers_ws[ws].loss_history[-100:]))\n",
        "  \n",
        "plt.subplot(3, 1, 1)\n",
        "plt.title('Best val accuracy vs. weight initialization scale')\n",
        "plt.xlabel('Weight initialization scale')\n",
        "plt.ylabel('Best val accuracy')\n",
        "plt.semilogx(weight_scales, best_val_accs, '-o', label='baseline')\n",
        "plt.semilogx(weight_scales, bn_best_val_accs, '-o', label='batchnorm')\n",
        "plt.legend(ncol=2, loc='lower right')\n",
        "\n",
        "plt.subplot(3, 1, 2)\n",
        "plt.title('Best train accuracy vs. weight initialization scale')\n",
        "plt.xlabel('Weight initialization scale')\n",
        "plt.ylabel('Best training accuracy')\n",
        "plt.semilogx(weight_scales, best_train_accs, '-o', label='baseline')\n",
        "plt.semilogx(weight_scales, bn_best_train_accs, '-o', label='batchnorm')\n",
        "plt.legend()\n",
        "\n",
        "plt.subplot(3, 1, 3)\n",
        "plt.title('Final training loss vs. weight initialization scale')\n",
        "plt.xlabel('Weight initialization scale')\n",
        "plt.ylabel('Final training loss')\n",
        "plt.semilogx(weight_scales, final_train_loss, '-o', label='baseline')\n",
        "plt.semilogx(weight_scales, bn_final_train_loss, '-o', label='batchnorm')\n",
        "plt.legend()\n",
        "plt.gca().set_ylim(1.0, 3.5)\n",
        "\n",
        "plt.gcf().set_size_inches(15, 15)\n",
        "plt.show()"
      ]
    },
    {
      "cell_type": "markdown",
      "metadata": {
        "tags": [
          "pdf-inline"
        ],
        "id": "rMzv3YIlVeD3"
      },
      "source": [
        "## Inline Question 1:\n",
        "Describe the results of this experiment. How does the weight initialization scale affect models with/without batch normalization differently, and why?\n",
        "\n",
        "## Answer:\n",
        "[FILL THIS IN]\n"
      ]
    },
    {
      "cell_type": "markdown",
      "metadata": {
        "id": "Xh8I9GBFVeD3"
      },
      "source": [
        "# Batch Normalization and Batch Size\n",
        "We will now run a small experiment to study the interaction of batch normalization and batch size.\n",
        "\n",
        "The first cell will train 6-layer networks both with and without batch normalization using different batch sizes. The second layer will plot training accuracy and validation set accuracy over time."
      ]
    },
    {
      "cell_type": "code",
      "execution_count": null,
      "metadata": {
        "tags": [
          "pdf-ignore-input"
        ],
        "id": "RcOL9i0kVeD4",
        "colab": {
          "base_uri": "https://localhost:8080/",
          "height": 432
        },
        "outputId": "5bb6a725-c656-4c18-d0fc-84cad75e37dc"
      },
      "outputs": [
        {
          "output_type": "stream",
          "name": "stdout",
          "text": [
            "No normalization: batch size =  5\n",
            "Normalization: batch size =  5\n"
          ]
        },
        {
          "output_type": "error",
          "ename": "KeyboardInterrupt",
          "evalue": "ignored",
          "traceback": [
            "\u001b[0;31m---------------------------------------------------------------------------\u001b[0m",
            "\u001b[0;31mKeyboardInterrupt\u001b[0m                         Traceback (most recent call last)",
            "\u001b[0;32m<ipython-input-11-78fcf9f4503c>\u001b[0m in \u001b[0;36m<module>\u001b[0;34m()\u001b[0m\n\u001b[1;32m     46\u001b[0m \u001b[0;34m\u001b[0m\u001b[0m\n\u001b[1;32m     47\u001b[0m \u001b[0mbatch_sizes\u001b[0m \u001b[0;34m=\u001b[0m \u001b[0;34m[\u001b[0m\u001b[0;36m5\u001b[0m\u001b[0;34m,\u001b[0m\u001b[0;36m10\u001b[0m\u001b[0;34m,\u001b[0m\u001b[0;36m50\u001b[0m\u001b[0;34m]\u001b[0m\u001b[0;34m\u001b[0m\u001b[0;34m\u001b[0m\u001b[0m\n\u001b[0;32m---> 48\u001b[0;31m \u001b[0mbn_solvers_bsize\u001b[0m\u001b[0;34m,\u001b[0m \u001b[0msolver_bsize\u001b[0m\u001b[0;34m,\u001b[0m \u001b[0mbatch_sizes\u001b[0m \u001b[0;34m=\u001b[0m \u001b[0mrun_batchsize_experiments\u001b[0m\u001b[0;34m(\u001b[0m\u001b[0;34m'batchnorm'\u001b[0m\u001b[0;34m)\u001b[0m\u001b[0;34m\u001b[0m\u001b[0;34m\u001b[0m\u001b[0m\n\u001b[0m",
            "\u001b[0;32m<ipython-input-11-78fcf9f4503c>\u001b[0m in \u001b[0;36mrun_batchsize_experiments\u001b[0;34m(normalization_mode)\u001b[0m\n\u001b[1;32m     40\u001b[0m                         },\n\u001b[1;32m     41\u001b[0m                         verbose=False)\n\u001b[0;32m---> 42\u001b[0;31m         \u001b[0mbn_solver\u001b[0m\u001b[0;34m.\u001b[0m\u001b[0mtrain\u001b[0m\u001b[0;34m(\u001b[0m\u001b[0;34m)\u001b[0m\u001b[0;34m\u001b[0m\u001b[0;34m\u001b[0m\u001b[0m\n\u001b[0m\u001b[1;32m     43\u001b[0m         \u001b[0mbn_solvers\u001b[0m\u001b[0;34m.\u001b[0m\u001b[0mappend\u001b[0m\u001b[0;34m(\u001b[0m\u001b[0mbn_solver\u001b[0m\u001b[0;34m)\u001b[0m\u001b[0;34m\u001b[0m\u001b[0;34m\u001b[0m\u001b[0m\n\u001b[1;32m     44\u001b[0m \u001b[0;34m\u001b[0m\u001b[0m\n",
            "\u001b[0;32m/content/drive/MyDrive/cs231n/assignments/assignment2/cs231n/solver.py\u001b[0m in \u001b[0;36mtrain\u001b[0;34m(self)\u001b[0m\n\u001b[1;32m    287\u001b[0m                 )\n\u001b[1;32m    288\u001b[0m                 val_acc = self.check_accuracy(\n\u001b[0;32m--> 289\u001b[0;31m                     \u001b[0mself\u001b[0m\u001b[0;34m.\u001b[0m\u001b[0mX_val\u001b[0m\u001b[0;34m,\u001b[0m \u001b[0mself\u001b[0m\u001b[0;34m.\u001b[0m\u001b[0my_val\u001b[0m\u001b[0;34m,\u001b[0m \u001b[0mnum_samples\u001b[0m\u001b[0;34m=\u001b[0m\u001b[0mself\u001b[0m\u001b[0;34m.\u001b[0m\u001b[0mnum_val_samples\u001b[0m\u001b[0;34m\u001b[0m\u001b[0;34m\u001b[0m\u001b[0m\n\u001b[0m\u001b[1;32m    290\u001b[0m                 )\n\u001b[1;32m    291\u001b[0m                 \u001b[0mself\u001b[0m\u001b[0;34m.\u001b[0m\u001b[0mtrain_acc_history\u001b[0m\u001b[0;34m.\u001b[0m\u001b[0mappend\u001b[0m\u001b[0;34m(\u001b[0m\u001b[0mtrain_acc\u001b[0m\u001b[0;34m)\u001b[0m\u001b[0;34m\u001b[0m\u001b[0;34m\u001b[0m\u001b[0m\n",
            "\u001b[0;32m/content/drive/MyDrive/cs231n/assignments/assignment2/cs231n/solver.py\u001b[0m in \u001b[0;36mcheck_accuracy\u001b[0;34m(self, X, y, num_samples, batch_size)\u001b[0m\n\u001b[1;32m    245\u001b[0m             \u001b[0mstart\u001b[0m \u001b[0;34m=\u001b[0m \u001b[0mi\u001b[0m \u001b[0;34m*\u001b[0m \u001b[0mbatch_size\u001b[0m\u001b[0;34m\u001b[0m\u001b[0;34m\u001b[0m\u001b[0m\n\u001b[1;32m    246\u001b[0m             \u001b[0mend\u001b[0m \u001b[0;34m=\u001b[0m \u001b[0;34m(\u001b[0m\u001b[0mi\u001b[0m \u001b[0;34m+\u001b[0m \u001b[0;36m1\u001b[0m\u001b[0;34m)\u001b[0m \u001b[0;34m*\u001b[0m \u001b[0mbatch_size\u001b[0m\u001b[0;34m\u001b[0m\u001b[0;34m\u001b[0m\u001b[0m\n\u001b[0;32m--> 247\u001b[0;31m             \u001b[0mscores\u001b[0m \u001b[0;34m=\u001b[0m \u001b[0mself\u001b[0m\u001b[0;34m.\u001b[0m\u001b[0mmodel\u001b[0m\u001b[0;34m.\u001b[0m\u001b[0mloss\u001b[0m\u001b[0;34m(\u001b[0m\u001b[0mX\u001b[0m\u001b[0;34m[\u001b[0m\u001b[0mstart\u001b[0m\u001b[0;34m:\u001b[0m\u001b[0mend\u001b[0m\u001b[0;34m]\u001b[0m\u001b[0;34m)\u001b[0m\u001b[0;34m\u001b[0m\u001b[0;34m\u001b[0m\u001b[0m\n\u001b[0m\u001b[1;32m    248\u001b[0m             \u001b[0my_pred\u001b[0m\u001b[0;34m.\u001b[0m\u001b[0mappend\u001b[0m\u001b[0;34m(\u001b[0m\u001b[0mnp\u001b[0m\u001b[0;34m.\u001b[0m\u001b[0margmax\u001b[0m\u001b[0;34m(\u001b[0m\u001b[0mscores\u001b[0m\u001b[0;34m,\u001b[0m \u001b[0maxis\u001b[0m\u001b[0;34m=\u001b[0m\u001b[0;36m1\u001b[0m\u001b[0;34m)\u001b[0m\u001b[0;34m)\u001b[0m\u001b[0;34m\u001b[0m\u001b[0;34m\u001b[0m\u001b[0m\n\u001b[1;32m    249\u001b[0m         \u001b[0my_pred\u001b[0m \u001b[0;34m=\u001b[0m \u001b[0mnp\u001b[0m\u001b[0;34m.\u001b[0m\u001b[0mhstack\u001b[0m\u001b[0;34m(\u001b[0m\u001b[0my_pred\u001b[0m\u001b[0;34m)\u001b[0m\u001b[0;34m\u001b[0m\u001b[0;34m\u001b[0m\u001b[0m\n",
            "\u001b[0;32m/content/drive/MyDrive/cs231n/assignments/assignment2/cs231n/classifiers/fc_net.py\u001b[0m in \u001b[0;36mloss\u001b[0;34m(self, X, y)\u001b[0m\n\u001b[1;32m    177\u001b[0m             out, cache[i]=affine_bn_relu_forward(out, \n\u001b[1;32m    178\u001b[0m             \u001b[0mself\u001b[0m\u001b[0;34m.\u001b[0m\u001b[0mparams\u001b[0m\u001b[0;34m[\u001b[0m\u001b[0;34m'W%d'\u001b[0m\u001b[0;34m%\u001b[0m\u001b[0;34m(\u001b[0m\u001b[0mi\u001b[0m\u001b[0;34m+\u001b[0m\u001b[0;36m1\u001b[0m\u001b[0;34m)\u001b[0m\u001b[0;34m]\u001b[0m\u001b[0;34m,\u001b[0m \u001b[0mself\u001b[0m\u001b[0;34m.\u001b[0m\u001b[0mparams\u001b[0m\u001b[0;34m[\u001b[0m\u001b[0;34m'b%d'\u001b[0m\u001b[0;34m%\u001b[0m\u001b[0;34m(\u001b[0m\u001b[0mi\u001b[0m\u001b[0;34m+\u001b[0m\u001b[0;36m1\u001b[0m\u001b[0;34m)\u001b[0m\u001b[0;34m]\u001b[0m\u001b[0;34m,\u001b[0m\u001b[0;34m\u001b[0m\u001b[0;34m\u001b[0m\u001b[0m\n\u001b[0;32m--> 179\u001b[0;31m             self.params['gamma%d'%(i+1)], self.params['beta%d'%(i+1)], bn_param)  \n\u001b[0m\u001b[1;32m    180\u001b[0m \u001b[0;34m\u001b[0m\u001b[0m\n\u001b[1;32m    181\u001b[0m         \u001b[0;32melse\u001b[0m\u001b[0;34m:\u001b[0m\u001b[0;34m\u001b[0m\u001b[0;34m\u001b[0m\u001b[0m\n",
            "\u001b[0;32m/content/drive/MyDrive/cs231n/assignments/assignment2/cs231n/layer_utils.py\u001b[0m in \u001b[0;36maffine_bn_relu_forward\u001b[0;34m(x, w, b, gamma, beta, bn_param)\u001b[0m\n\u001b[1;32m     31\u001b[0m \u001b[0;32mdef\u001b[0m \u001b[0maffine_bn_relu_forward\u001b[0m\u001b[0;34m(\u001b[0m\u001b[0mx\u001b[0m\u001b[0;34m,\u001b[0m \u001b[0mw\u001b[0m\u001b[0;34m,\u001b[0m \u001b[0mb\u001b[0m\u001b[0;34m,\u001b[0m \u001b[0mgamma\u001b[0m\u001b[0;34m,\u001b[0m \u001b[0mbeta\u001b[0m\u001b[0;34m,\u001b[0m \u001b[0mbn_param\u001b[0m\u001b[0;34m)\u001b[0m\u001b[0;34m:\u001b[0m\u001b[0;34m\u001b[0m\u001b[0;34m\u001b[0m\u001b[0m\n\u001b[1;32m     32\u001b[0m \u001b[0;34m\u001b[0m\u001b[0m\n\u001b[0;32m---> 33\u001b[0;31m   \u001b[0mresult1\u001b[0m\u001b[0;34m,\u001b[0m \u001b[0mfc_cache\u001b[0m\u001b[0;34m=\u001b[0m \u001b[0maffine_forward\u001b[0m\u001b[0;34m(\u001b[0m\u001b[0mx\u001b[0m\u001b[0;34m,\u001b[0m \u001b[0mw\u001b[0m\u001b[0;34m,\u001b[0m \u001b[0mb\u001b[0m\u001b[0;34m)\u001b[0m\u001b[0;34m\u001b[0m\u001b[0;34m\u001b[0m\u001b[0m\n\u001b[0m\u001b[1;32m     34\u001b[0m   \u001b[0mresult2\u001b[0m\u001b[0;34m,\u001b[0m \u001b[0mbn_cache\u001b[0m\u001b[0;34m=\u001b[0m \u001b[0mbatchnorm_forward\u001b[0m\u001b[0;34m(\u001b[0m\u001b[0mresult1\u001b[0m\u001b[0;34m,\u001b[0m \u001b[0mgamma\u001b[0m\u001b[0;34m,\u001b[0m \u001b[0mbeta\u001b[0m\u001b[0;34m,\u001b[0m \u001b[0mbn_param\u001b[0m\u001b[0;34m)\u001b[0m\u001b[0;34m\u001b[0m\u001b[0;34m\u001b[0m\u001b[0m\n\u001b[1;32m     35\u001b[0m   \u001b[0mout\u001b[0m\u001b[0;34m,\u001b[0m \u001b[0mrelu_cache\u001b[0m\u001b[0;34m=\u001b[0m \u001b[0mrelu_forward\u001b[0m\u001b[0;34m(\u001b[0m\u001b[0mresult2\u001b[0m\u001b[0;34m)\u001b[0m\u001b[0;34m\u001b[0m\u001b[0;34m\u001b[0m\u001b[0m\n",
            "\u001b[0;32m/content/drive/MyDrive/cs231n/assignments/assignment2/cs231n/layers.py\u001b[0m in \u001b[0;36maffine_forward\u001b[0;34m(x, w, b)\u001b[0m\n\u001b[1;32m     27\u001b[0m \u001b[0;34m\u001b[0m\u001b[0m\n\u001b[1;32m     28\u001b[0m     \u001b[0mx_reshape\u001b[0m \u001b[0;34m=\u001b[0m \u001b[0mx\u001b[0m\u001b[0;34m.\u001b[0m\u001b[0mreshape\u001b[0m\u001b[0;34m(\u001b[0m\u001b[0mx\u001b[0m\u001b[0;34m.\u001b[0m\u001b[0mshape\u001b[0m\u001b[0;34m[\u001b[0m\u001b[0;36m0\u001b[0m\u001b[0;34m]\u001b[0m\u001b[0;34m,\u001b[0m\u001b[0;34m-\u001b[0m\u001b[0;36m1\u001b[0m\u001b[0;34m)\u001b[0m\u001b[0;34m\u001b[0m\u001b[0;34m\u001b[0m\u001b[0m\n\u001b[0;32m---> 29\u001b[0;31m     \u001b[0mout\u001b[0m \u001b[0;34m=\u001b[0m \u001b[0mx_reshape\u001b[0m\u001b[0;34m.\u001b[0m\u001b[0mdot\u001b[0m\u001b[0;34m(\u001b[0m\u001b[0mw\u001b[0m\u001b[0;34m)\u001b[0m \u001b[0;34m+\u001b[0m \u001b[0mb\u001b[0m\u001b[0;34m\u001b[0m\u001b[0;34m\u001b[0m\u001b[0m\n\u001b[0m\u001b[1;32m     30\u001b[0m \u001b[0;34m\u001b[0m\u001b[0m\n\u001b[1;32m     31\u001b[0m     \u001b[0;31m# *****END OF YOUR CODE (DO NOT DELETE/MODIFY THIS LINE)*****\u001b[0m\u001b[0;34m\u001b[0m\u001b[0;34m\u001b[0m\u001b[0;34m\u001b[0m\u001b[0m\n",
            "\u001b[0;31mKeyboardInterrupt\u001b[0m: "
          ]
        }
      ],
      "source": [
        "def run_batchsize_experiments(normalization_mode):\n",
        "    np.random.seed(231)\n",
        "    \n",
        "    # Try training a very deep net with batchnorm.\n",
        "    hidden_dims = [100, 100, 100, 100, 100]\n",
        "    num_train = 1000\n",
        "    small_data = {\n",
        "      'X_train': data['X_train'][:num_train],\n",
        "      'y_train': data['y_train'][:num_train],\n",
        "      'X_val': data['X_val'],\n",
        "      'y_val': data['y_val'],\n",
        "    }\n",
        "    n_epochs=10\n",
        "    weight_scale = 2e-2\n",
        "    batch_sizes = [5,10,50]\n",
        "    lr = 10**(-3.5)\n",
        "    solver_bsize = batch_sizes[0]\n",
        "\n",
        "    print('No normalization: batch size = ',solver_bsize)\n",
        "    model = FullyConnectedNet(hidden_dims, weight_scale=weight_scale, normalization=None)\n",
        "    solver = Solver(model, small_data,\n",
        "                    num_epochs=n_epochs, batch_size=solver_bsize,\n",
        "                    update_rule='adam',\n",
        "                    optim_config={\n",
        "                      'learning_rate': lr,\n",
        "                    },\n",
        "                    verbose=False)\n",
        "    solver.train()\n",
        "    \n",
        "    bn_solvers = []\n",
        "    for i in range(len(batch_sizes)):\n",
        "        b_size=batch_sizes[i]\n",
        "        print('Normalization: batch size = ',b_size)\n",
        "        bn_model = FullyConnectedNet(hidden_dims, weight_scale=weight_scale, normalization=normalization_mode)\n",
        "        bn_solver = Solver(bn_model, small_data,\n",
        "                        num_epochs=n_epochs, batch_size=b_size,\n",
        "                        update_rule='adam',\n",
        "                        optim_config={\n",
        "                          'learning_rate': lr,\n",
        "                        },\n",
        "                        verbose=False)\n",
        "        bn_solver.train()\n",
        "        bn_solvers.append(bn_solver)\n",
        "        \n",
        "    return bn_solvers, solver, batch_sizes\n",
        "\n",
        "batch_sizes = [5,10,50]\n",
        "bn_solvers_bsize, solver_bsize, batch_sizes = run_batchsize_experiments('batchnorm')"
      ]
    },
    {
      "cell_type": "code",
      "execution_count": null,
      "metadata": {
        "id": "vUFIf0-PVeD4"
      },
      "outputs": [],
      "source": [
        "plt.subplot(2, 1, 1)\n",
        "plot_training_history('Training accuracy (Batch Normalization)','Epoch', solver_bsize, bn_solvers_bsize, \\\n",
        "                      lambda x: x.train_acc_history, bl_marker='-^', bn_marker='-o', labels=batch_sizes)\n",
        "plt.subplot(2, 1, 2)\n",
        "plot_training_history('Validation accuracy (Batch Normalization)','Epoch', solver_bsize, bn_solvers_bsize, \\\n",
        "                      lambda x: x.val_acc_history, bl_marker='-^', bn_marker='-o', labels=batch_sizes)\n",
        "\n",
        "plt.gcf().set_size_inches(15, 10)\n",
        "plt.show()"
      ]
    },
    {
      "cell_type": "markdown",
      "metadata": {
        "tags": [
          "pdf-inline"
        ],
        "id": "ALXDNF2DVeD4"
      },
      "source": [
        "## Inline Question 2:\n",
        "Describe the results of this experiment. What does this imply about the relationship between batch normalization and batch size? Why is this relationship observed?\n",
        "\n",
        "## Answer:\n",
        "[FILL THIS IN]\n"
      ]
    },
    {
      "cell_type": "markdown",
      "metadata": {
        "id": "UXTmgMCTVeD4"
      },
      "source": [
        "# Layer Normalization\n",
        "Batch normalization has proved to be effective in making networks easier to train, but the dependency on batch size makes it less useful in complex networks which have a cap on the input batch size due to hardware limitations. \n",
        "\n",
        "Several alternatives to batch normalization have been proposed to mitigate this problem; one such technique is Layer Normalization [2]. Instead of normalizing over the batch, we normalize over the features. In other words, when using Layer Normalization, each feature vector corresponding to a single datapoint is normalized based on the sum of all terms within that feature vector.\n",
        "\n",
        "[2] [Ba, Jimmy Lei, Jamie Ryan Kiros, and Geoffrey E. Hinton. \"Layer Normalization.\" stat 1050 (2016): 21.](https://arxiv.org/pdf/1607.06450.pdf)"
      ]
    },
    {
      "cell_type": "markdown",
      "metadata": {
        "tags": [
          "pdf-inline"
        ],
        "id": "D3GJ1H-KVeD4"
      },
      "source": [
        "## Inline Question 3:\n",
        "Which of these data preprocessing steps is analogous to batch normalization, and which is analogous to layer normalization?\n",
        "\n",
        "1. Scaling each image in the dataset, so that the RGB channels for each row of pixels within an image sums up to 1.\n",
        "2. Scaling each image in the dataset, so that the RGB channels for all pixels within an image sums up to 1.  \n",
        "3. Subtracting the mean image of the dataset from each image in the dataset.\n",
        "4. Setting all RGB values to either 0 or 1 depending on a given threshold.\n",
        "\n",
        "## Answer:\n",
        "[FILL THIS IN]\n"
      ]
    },
    {
      "cell_type": "markdown",
      "metadata": {
        "id": "L4nGOKoHVeD4"
      },
      "source": [
        "# Layer Normalization: Implementation\n",
        "\n",
        "Now you'll implement layer normalization. This step should be relatively straightforward, as conceptually the implementation is almost identical to that of batch normalization. One significant difference though is that for layer normalization, we do not keep track of the moving moments, and the testing phase is identical to the training phase, where the mean and variance are directly calculated per datapoint.\n",
        "\n",
        "Here's what you need to do:\n",
        "\n",
        "* In `cs231n/layers.py`, implement the forward pass for layer normalization in the function `layernorm_forward`. \n",
        "\n",
        "Run the cell below to check your results.\n",
        "* In `cs231n/layers.py`, implement the backward pass for layer normalization in the function `layernorm_backward`. \n",
        "\n",
        "Run the second cell below to check your results.\n",
        "* Modify `cs231n/classifiers/fc_net.py` to add layer normalization to the `FullyConnectedNet`. When the `normalization` flag is set to `\"layernorm\"` in the constructor, you should insert a layer normalization layer before each ReLU nonlinearity. \n",
        "\n",
        "Run the third cell below to run the batch size experiment on layer normalization."
      ]
    },
    {
      "cell_type": "code",
      "execution_count": null,
      "metadata": {
        "id": "e5J0FIUlVeD5",
        "colab": {
          "base_uri": "https://localhost:8080/"
        },
        "outputId": "77e2dddb-c170-4bb4-d0cd-17ca8da37bc2"
      },
      "outputs": [
        {
          "output_type": "stream",
          "name": "stdout",
          "text": [
            "Before layer normalization:\n",
            "  means: [-59.06673243 -47.60782686 -43.31137368 -26.40991744]\n",
            "  stds:  [10.07429373 28.39478981 35.28360729  4.01831507]\n",
            "\n",
            "After layer normalization (gamma=1, beta=0)\n",
            "  means: [ 4.81096644e-16 -7.40148683e-17  2.22044605e-16 -5.92118946e-16]\n",
            "  stds:  [0.99999995 0.99999999 1.         0.99999969]\n",
            "\n",
            "After layer normalization (gamma= [3. 3. 3.] , beta= [5. 5. 5.] )\n",
            "  means: [5. 5. 5. 5.]\n",
            "  stds:  [2.99999985 2.99999998 2.99999999 2.99999907]\n",
            "\n"
          ]
        }
      ],
      "source": [
        "# Check the training-time forward pass by checking means and variances\n",
        "# of features both before and after layer normalization.\n",
        "\n",
        "# Simulate the forward pass for a two-layer network.\n",
        "np.random.seed(231)\n",
        "N, D1, D2, D3 =4, 50, 60, 3\n",
        "X = np.random.randn(N, D1)\n",
        "W1 = np.random.randn(D1, D2)\n",
        "W2 = np.random.randn(D2, D3)\n",
        "a = np.maximum(0, X.dot(W1)).dot(W2)\n",
        "\n",
        "print('Before layer normalization:')\n",
        "print_mean_std(a,axis=1)\n",
        "\n",
        "gamma = np.ones(D3)\n",
        "beta = np.zeros(D3)\n",
        "\n",
        "# Means should be close to zero and stds close to one.\n",
        "print('After layer normalization (gamma=1, beta=0)')\n",
        "a_norm, _ = layernorm_forward(a, gamma, beta, {'mode': 'train'})\n",
        "print_mean_std(a_norm,axis=1)\n",
        "\n",
        "gamma = np.asarray([3.0,3.0,3.0])\n",
        "beta = np.asarray([5.0,5.0,5.0])\n",
        "\n",
        "# Now means should be close to beta and stds close to gamma.\n",
        "print('After layer normalization (gamma=', gamma, ', beta=', beta, ')')\n",
        "a_norm, _ = layernorm_forward(a, gamma, beta, {'mode': 'train'})\n",
        "print_mean_std(a_norm,axis=1)"
      ]
    },
    {
      "cell_type": "code",
      "execution_count": null,
      "metadata": {
        "id": "PjqU-duVVeD5",
        "colab": {
          "base_uri": "https://localhost:8080/"
        },
        "outputId": "9d26fc25-5a17-4a7b-8b63-e5c5b07fc314"
      },
      "outputs": [
        {
          "output_type": "stream",
          "name": "stdout",
          "text": [
            "dx error:  1.433615146847572e-09\n",
            "dgamma error:  4.519489546032799e-12\n",
            "dbeta error:  2.276445013433725e-12\n"
          ]
        }
      ],
      "source": [
        "# Gradient check batchnorm backward pass.\n",
        "np.random.seed(231)\n",
        "N, D = 4, 5\n",
        "x = 5 * np.random.randn(N, D) + 12\n",
        "gamma = np.random.randn(D)\n",
        "beta = np.random.randn(D)\n",
        "dout = np.random.randn(N, D)\n",
        "\n",
        "ln_param = {}\n",
        "fx = lambda x: layernorm_forward(x, gamma, beta, ln_param)[0]\n",
        "fg = lambda a: layernorm_forward(x, a, beta, ln_param)[0]\n",
        "fb = lambda b: layernorm_forward(x, gamma, b, ln_param)[0]\n",
        "\n",
        "dx_num = eval_numerical_gradient_array(fx, x, dout)\n",
        "da_num = eval_numerical_gradient_array(fg, gamma.copy(), dout)\n",
        "db_num = eval_numerical_gradient_array(fb, beta.copy(), dout)\n",
        "\n",
        "_, cache = layernorm_forward(x, gamma, beta, ln_param)\n",
        "dx, dgamma, dbeta = layernorm_backward(dout, cache)\n",
        "\n",
        "# You should expect to see relative errors between 1e-12 and 1e-8.\n",
        "print('dx error: ', rel_error(dx_num, dx))\n",
        "print('dgamma error: ', rel_error(da_num, dgamma))\n",
        "print('dbeta error: ', rel_error(db_num, dbeta))"
      ]
    },
    {
      "cell_type": "markdown",
      "metadata": {
        "id": "bzMKLoo0VeD5"
      },
      "source": [
        "# Layer Normalization and Batch Size\n",
        "\n",
        "We will now run the previous batch size experiment with layer normalization instead of batch normalization. Compared to the previous experiment, you should see a markedly smaller influence of batch size on the training history!"
      ]
    },
    {
      "cell_type": "code",
      "execution_count": null,
      "metadata": {
        "id": "k2ZSLT7bVeD5",
        "colab": {
          "base_uri": "https://localhost:8080/",
          "height": 263
        },
        "outputId": "c4804a5f-25f0-4e51-9ecd-f04d36b3d671"
      },
      "outputs": [
        {
          "output_type": "error",
          "ename": "NameError",
          "evalue": "ignored",
          "traceback": [
            "\u001b[0;31m---------------------------------------------------------------------------\u001b[0m",
            "\u001b[0;31mNameError\u001b[0m                                 Traceback (most recent call last)",
            "\u001b[0;32m<ipython-input-7-92b9fb759a4a>\u001b[0m in \u001b[0;36m<module>\u001b[0;34m()\u001b[0m\n\u001b[0;32m----> 1\u001b[0;31m \u001b[0mln_solvers_bsize\u001b[0m\u001b[0;34m,\u001b[0m \u001b[0msolver_bsize\u001b[0m\u001b[0;34m,\u001b[0m \u001b[0mbatch_sizes\u001b[0m \u001b[0;34m=\u001b[0m \u001b[0mrun_batchsize_experiments\u001b[0m\u001b[0;34m(\u001b[0m\u001b[0;34m'layernorm'\u001b[0m\u001b[0;34m)\u001b[0m\u001b[0;34m\u001b[0m\u001b[0;34m\u001b[0m\u001b[0m\n\u001b[0m\u001b[1;32m      2\u001b[0m \u001b[0;34m\u001b[0m\u001b[0m\n\u001b[1;32m      3\u001b[0m \u001b[0mplt\u001b[0m\u001b[0;34m.\u001b[0m\u001b[0msubplot\u001b[0m\u001b[0;34m(\u001b[0m\u001b[0;36m2\u001b[0m\u001b[0;34m,\u001b[0m \u001b[0;36m1\u001b[0m\u001b[0;34m,\u001b[0m \u001b[0;36m1\u001b[0m\u001b[0;34m)\u001b[0m\u001b[0;34m\u001b[0m\u001b[0;34m\u001b[0m\u001b[0m\n\u001b[1;32m      4\u001b[0m \u001b[0mplot_training_history\u001b[0m\u001b[0;34m(\u001b[0m\u001b[0;34m'Training accuracy (Layer Normalization)'\u001b[0m\u001b[0;34m,\u001b[0m\u001b[0;34m'Epoch'\u001b[0m\u001b[0;34m,\u001b[0m \u001b[0msolver_bsize\u001b[0m\u001b[0;34m,\u001b[0m \u001b[0mln_solvers_bsize\u001b[0m\u001b[0;34m,\u001b[0m                       \u001b[0;32mlambda\u001b[0m \u001b[0mx\u001b[0m\u001b[0;34m:\u001b[0m \u001b[0mx\u001b[0m\u001b[0;34m.\u001b[0m\u001b[0mtrain_acc_history\u001b[0m\u001b[0;34m,\u001b[0m \u001b[0mbl_marker\u001b[0m\u001b[0;34m=\u001b[0m\u001b[0;34m'-^'\u001b[0m\u001b[0;34m,\u001b[0m \u001b[0mbn_marker\u001b[0m\u001b[0;34m=\u001b[0m\u001b[0;34m'-o'\u001b[0m\u001b[0;34m,\u001b[0m \u001b[0mlabels\u001b[0m\u001b[0;34m=\u001b[0m\u001b[0mbatch_sizes\u001b[0m\u001b[0;34m)\u001b[0m\u001b[0;34m\u001b[0m\u001b[0;34m\u001b[0m\u001b[0m\n\u001b[1;32m      5\u001b[0m \u001b[0mplt\u001b[0m\u001b[0;34m.\u001b[0m\u001b[0msubplot\u001b[0m\u001b[0;34m(\u001b[0m\u001b[0;36m2\u001b[0m\u001b[0;34m,\u001b[0m \u001b[0;36m1\u001b[0m\u001b[0;34m,\u001b[0m \u001b[0;36m2\u001b[0m\u001b[0;34m)\u001b[0m\u001b[0;34m\u001b[0m\u001b[0;34m\u001b[0m\u001b[0m\n",
            "\u001b[0;31mNameError\u001b[0m: name 'run_batchsize_experiments' is not defined"
          ]
        }
      ],
      "source": [
        "ln_solvers_bsize, solver_bsize, batch_sizes = run_batchsize_experiments('layernorm')\n",
        "\n",
        "plt.subplot(2, 1, 1)\n",
        "plot_training_history('Training accuracy (Layer Normalization)','Epoch', solver_bsize, ln_solvers_bsize, \\\n",
        "                      lambda x: x.train_acc_history, bl_marker='-^', bn_marker='-o', labels=batch_sizes)\n",
        "plt.subplot(2, 1, 2)\n",
        "plot_training_history('Validation accuracy (Layer Normalization)','Epoch', solver_bsize, ln_solvers_bsize, \\\n",
        "                      lambda x: x.val_acc_history, bl_marker='-^', bn_marker='-o', labels=batch_sizes)\n",
        "\n",
        "plt.gcf().set_size_inches(15, 10)\n",
        "plt.show()"
      ]
    },
    {
      "cell_type": "markdown",
      "metadata": {
        "tags": [
          "pdf-inline"
        ],
        "id": "OBQS-seoVeD5"
      },
      "source": [
        "## Inline Question 4:\n",
        "When is layer normalization likely to not work well, and why?\n",
        "\n",
        "1. Using it in a very deep network\n",
        "2. Having a very small dimension of features\n",
        "3. Having a high regularization term\n",
        "\n",
        "\n",
        "## Answer:\n",
        "[FILL THIS IN]\n"
      ]
    }
  ],
  "metadata": {
    "colab": {
      "name": "BatchNormalization.ipynb",
      "provenance": [],
      "collapsed_sections": [],
      "include_colab_link": true
    },
    "language_info": {
      "name": "python"
    },
    "kernelspec": {
      "name": "python3",
      "display_name": "Python 3"
    }
  },
  "nbformat": 4,
  "nbformat_minor": 0
}
